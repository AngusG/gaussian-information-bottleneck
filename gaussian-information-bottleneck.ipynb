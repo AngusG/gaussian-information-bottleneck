{
 "cells": [
  {
   "cell_type": "markdown",
   "metadata": {},
   "source": [
    "# Gaussian Information Bottleneck\n",
    "Chechik et al., (2005) JMLR - http://www.jmlr.org/papers/v6/chechik05a.html"
   ]
  },
  {
   "cell_type": "code",
   "execution_count": null,
   "metadata": {},
   "outputs": [],
   "source": [
    "%matplotlib inline\n",
    "\n",
    "import numpy as np\n",
    "import matplotlib.pyplot as plt\n",
    "\n",
    "from numpy.linalg import inv, det\n",
    "from mpl_toolkits.mplot3d import Axes3D\n",
    "from matplotlib import cm\n",
    "\n",
    "plt.rc('text', usetex=True)\n",
    "plt.rc('font', family='serif')"
   ]
  },
  {
   "cell_type": "markdown",
   "metadata": {},
   "source": [
    "Details from Figure 1. caption\n",
    "\n",
    "$\\Sigma_x = I_2$\n",
    "\n",
    "$\\Sigma_{xy} = [0.1, 0.2]$ cross-covariance matrix\n",
    "\n",
    "$\\Sigma_{\\zeta} = 0.3 I_{2 \\times 2}$"
   ]
  },
  {
   "cell_type": "code",
   "execution_count": null,
   "metadata": {},
   "outputs": [],
   "source": [
    "cov_x = np.eye(2)\n",
    "cov_xy = np.array([0.1, 0.2])\n",
    "cov_zeta = 0.3 * np.eye(2)  # noise"
   ]
  },
  {
   "cell_type": "code",
   "execution_count": null,
   "metadata": {},
   "outputs": [],
   "source": [
    "cov_x_g_y = cov_x - np.outer(cov_xy.T, cov_xy)\n",
    "print(cov_x_g_y)"
   ]
  },
  {
   "cell_type": "markdown",
   "metadata": {},
   "source": [
    "$L = I(X; T) - \\beta I(T; Y)$\n",
    "\n",
    "$L = h(T) - h(T|X) - (\\beta h(T) - \\beta h(T|Y))$\n",
    "\n",
    "$L = h(T) - h(T|X) - \\beta h(T) + \\beta h(T|Y)$\n",
    "\n",
    "Because Gaussian\n",
    "\n",
    "$L =  \\log(|\\Sigma_t|) - \\log(|\\Sigma_{t|x}|) - \\beta \\log(|\\Sigma_t|) + \\beta \\log(|\\Sigma_{t|y}|)$\n",
    "\n",
    "$L = (1-\\beta) \\log(|A \\Sigma_x A^T + \\Sigma_{\\zeta}|) - \\log(|\\Sigma_{\\zeta}|) + \\beta\\log(|A \\Sigma_{x|y} A^T + \\Sigma_{\\zeta}|)$"
   ]
  },
  {
   "cell_type": "code",
   "execution_count": null,
   "metadata": {},
   "outputs": [],
   "source": [
    "beta = 100  # try 15\n",
    "d = 25\n",
    "z = np.zeros((d, d))\n",
    "\n",
    "a = np.arange(-5, 5, 0.4)\n",
    "xv, yv = np.meshgrid(a, a)\n",
    "\n",
    "for i in range(d):\n",
    "    for j in range(d):\n",
    "        A = np.array([[a[i], a[j]],\n",
    "                      [0.,     0]])\n",
    "        IXT = np.log(det(np.dot(np.dot(A, np.eye(2)), A.T) + cov_zeta))\n",
    "        ITY = np.log(det(np.dot(np.dot(A, cov_x_g_y), A.T) + cov_zeta))\n",
    "        z[i, j] = (1. - beta) * IXT - np.log(det(cov_zeta)) + beta * ITY"
   ]
  },
  {
   "cell_type": "code",
   "execution_count": null,
   "metadata": {},
   "outputs": [],
   "source": [
    "fig = plt.figure()\n",
    "ax = fig.gca(projection='3d')\n",
    "ax.plot_surface(xv, yv, z, cmap=cm.hot, linewidth=0, antialiased=True)\n",
    "ax.set_xticks([-5, 0, 5])\n",
    "ax.set_yticks([-5, 0, 5])\n",
    "#ax.set_xticklabels('A1')\n",
    "#ax.set_zticklabels(r'$L_{IB}$')\n",
    "ax.set_xlim(-5, 5)\n",
    "ax.set_ylim(-5, 5)\n",
    "ax.tick_params(labelsize='x-large')\n",
    "ax.view_init(elev=35., azim=-15)\n",
    "plt.tight_layout()\n",
    "plt.show()"
   ]
  },
  {
   "cell_type": "code",
   "execution_count": null,
   "metadata": {},
   "outputs": [],
   "source": [
    "fig.savefig('GIB_fig1_beta%d.png' % beta)"
   ]
  },
  {
   "cell_type": "code",
   "execution_count": null,
   "metadata": {},
   "outputs": [],
   "source": [
    "cov_tx = np.dot(A, cov_x)\n",
    "# print(cov_tx)\n",
    "\n",
    "cov_ty = np.dot(A, cov_xy)\n",
    "# print(cov_ty)\n",
    "\n",
    "cov_t = np.dot(np.dot(A, cov_x), A.T) + cov_zeta\n",
    "# print(cov_t)"
   ]
  },
  {
   "cell_type": "code",
   "execution_count": null,
   "metadata": {},
   "outputs": [],
   "source": [
    "import matplotlib\n",
    "import matplotlib.pyplot as plt\n",
    "matplotlib.rcParams['text.usetex'] = True\n",
    "matplotlib.rcParams['text.latex.unicode'] = True\n",
    "\n",
    "string = r'z=${value}^{upper}_{lower}$'.format(\n",
    "    value='{' + str(0.27) + '}',\n",
    "    upper='{+' + str(0.01) + '}',\n",
    "    lower='{-' + str(0.01) + '}')\n",
    "print(string)\n",
    "\n",
    "fig = plt.figure(figsize=(3, 1))\n",
    "fig.text(0.1, 0.5, string, size=24, va='center')"
   ]
  }
 ],
 "metadata": {
  "kernelspec": {
   "display_name": "Python 3",
   "language": "python",
   "name": "python3"
  },
  "language_info": {
   "codemirror_mode": {
    "name": "ipython",
    "version": 3
   },
   "file_extension": ".py",
   "mimetype": "text/x-python",
   "name": "python",
   "nbconvert_exporter": "python",
   "pygments_lexer": "ipython3",
   "version": "3.7.6"
  }
 },
 "nbformat": 4,
 "nbformat_minor": 2
}
